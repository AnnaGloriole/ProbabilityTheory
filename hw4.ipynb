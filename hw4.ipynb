{
 "cells": [
  {
   "attachments": {},
   "cell_type": "markdown",
   "metadata": {},
   "source": []
  },
  {
   "attachments": {},
   "cell_type": "markdown",
   "metadata": {},
   "source": [
    "1. Случайная непрерывная величина A имеет равномерное распределение на промежутке (200, 800].\n",
    "Найдите ее среднее значение и дисперсию."
   ]
  },
  {
   "cell_type": "code",
   "execution_count": 1,
   "metadata": {},
   "outputs": [
    {
     "name": "stdout",
     "output_type": "stream",
     "text": [
      "На промежутке (200;800]\n",
      "Среднее значение: М(А) =  500.00\n",
      "Дисперсия: D(A) =  30000.00\n"
     ]
    }
   ],
   "source": [
    "def mean_and_variance(a,b):\n",
    "    return f'На промежутке ({a};{b}]\\nСреднее значение: М(А) = {(a+b)/2: .2f}\\nДисперсия: D(A) = {((b-a)**2)/12: .2f}'\n",
    "print(mean_and_variance(200,800))"
   ]
  },
  {
   "attachments": {},
   "cell_type": "markdown",
   "metadata": {},
   "source": [
    "2. О случайной непрерывной равномерно распределенной величине B известно, что ее дисперсия равна 0.2. Можно ли найти правую границу величины B и ее среднее значение зная, что левая граница равна 0.5? Если да, найдите ее."
   ]
  },
  {
   "cell_type": "code",
   "execution_count": 16,
   "metadata": {},
   "outputs": [
    {
     "name": "stdout",
     "output_type": "stream",
     "text": [
      "Левая граница распределения величины В - b =  2.049\n",
      "Среднее значение В на промежутке (0.5;  2.049) M(B) =  1.275\n"
     ]
    }
   ],
   "source": [
    "# D=(b-a)**2/12\n",
    "# D=0.2\n",
    "a=0.5\n",
    "b=0.5+2.4**(1/2)\n",
    "M=(a+b)/2\n",
    "print(f'Левая граница распределения величины В - b = {b: .3f}\\n'\n",
    "      f'Среднее значение В на промежутке (0.5; {b: .3f}) M(B) = {(b+0.5)/2: .3f}')"
   ]
  },
  {
   "attachments": {},
   "cell_type": "markdown",
   "metadata": {},
   "source": [
    "3. Непрерывная случайная величина X распределена нормально и задана плотностью распределения\n",
    "f(x) = (1 / (4 * sqrt(2pi))) * exp((-(x+2)**2) / 32)\n",
    "Найдите:\n",
    "а). M(X)\n",
    "б). D(X)\n",
    "в). std(X) (среднее квадратичное отклонение)\n",
    "- f(x) = (1 / (4 * sqrt(2pi))) * exp((-(x+2)**2) / 32)\n",
    "- f(х) = (1 / (std(х) * sqrt(2pi))) * exp((-(x-a) **2) / 2std(х) * *2)\n",
    "- M(Х) = a = -2std = 4D(X) = std(х)**2 = 16\n",
    "- M(Х) = -2D(Х) = 16std(х) = 4"
   ]
  },
  {
   "attachments": {},
   "cell_type": "markdown",
   "metadata": {},
   "source": [
    "4.  Рост взрослого населения города X имеет нормальное распределение. Причем, средний рост равен 174 см, а среднее квадратичное отклонение равно 8 см. Какова вероятность того, что случайным образом выбранный взрослый человек имеет рост:\n",
    "а) больше 182 см\n",
    "б) больше 190 см\n",
    "в) от 166 см до 190 см\n",
    "г) от 166 см до 182 см\n",
    "д) от 158 см до 190 см\n",
    "е) не выше 150 см или не ниже 190 см\n",
    "ё) не выше 150 см или не ниже 198 см\n",
    "ж) ниже 166 см."
   ]
  },
  {
   "cell_type": "code",
   "execution_count": 40,
   "metadata": {},
   "outputs": [
    {
     "name": "stdout",
     "output_type": "stream",
     "text": [
      "1.0\n",
      "A Вероятность того, что взрослый имеет рост больше 182:  0.159\n"
     ]
    }
   ],
   "source": [
    "def z_value(height):\n",
    "    return (height-174)/8\n",
    "\n",
    "from statistics import NormalDist\n",
    "print(z_value(182))\n",
    "NormalDist().cdf(z_value(182))\n",
    "P=1-NormalDist().cdf(z_value(182))\n",
    "print(f'A Вероятность того, что взрослый имеет рост больше 182: {P: .3f}')"
   ]
  },
  {
   "cell_type": "code",
   "execution_count": 38,
   "metadata": {},
   "outputs": [
    {
     "name": "stdout",
     "output_type": "stream",
     "text": [
      "Б Вероятность того, что взрослый имеет рост больше 190:  0.023\n"
     ]
    }
   ],
   "source": [
    "z=z_value(190)\n",
    "P=1-NormalDist().cdf(z)\n",
    "print(f'Б Вероятность того, что взрослый имеет рост больше 190: {P: .3f}')"
   ]
  },
  {
   "cell_type": "code",
   "execution_count": 37,
   "metadata": {},
   "outputs": [
    {
     "name": "stdout",
     "output_type": "stream",
     "text": [
      "В Вероятность того, что взрослый имеет рост от 166 см до 190 см:  0.819\n"
     ]
    }
   ],
   "source": [
    "z1=z_value(166)\n",
    "z2=z_value(190)\n",
    "P=NormalDist().cdf(z2)-NormalDist().cdf(z1)\n",
    "print(f'В Вероятность того, что взрослый имеет рост от 166 см до 190 см: {P: .3f}')"
   ]
  },
  {
   "cell_type": "code",
   "execution_count": 39,
   "metadata": {},
   "outputs": [
    {
     "name": "stdout",
     "output_type": "stream",
     "text": [
      "Г Вероятность того, что взрослый имеет рост от 166 см до 182 см: 0.683\n"
     ]
    }
   ],
   "source": [
    "z1=z_value(166)\n",
    "z2=z_value(182)\n",
    "P=NormalDist().cdf(z2)-NormalDist().cdf(z1)\n",
    "print(f'Г Вероятность того, что взрослый имеет рост от 166 см до 182 см:{P: .3f}')"
   ]
  },
  {
   "cell_type": "code",
   "execution_count": 41,
   "metadata": {},
   "outputs": [
    {
     "name": "stdout",
     "output_type": "stream",
     "text": [
      "Д Вероятность того, что взрослый имеет рост от 158 см до 190 см: 0.954\n"
     ]
    }
   ],
   "source": [
    "z1=z_value(158)\n",
    "z2=z_value(190)\n",
    "P=NormalDist().cdf(z2)-NormalDist().cdf(z1)\n",
    "print(f'Д Вероятность того, что взрослый имеет рост от 158 см до 190 см:{P: .3f}')"
   ]
  },
  {
   "cell_type": "code",
   "execution_count": 42,
   "metadata": {},
   "outputs": [
    {
     "name": "stdout",
     "output_type": "stream",
     "text": [
      "Е Вероятность того, что взрослый имеет рост не выше 150 см или не ниже 190 см: 0.024\n"
     ]
    }
   ],
   "source": [
    "z1=z_value(150)\n",
    "z2=z_value(190)\n",
    "P=NormalDist().cdf(z1)+(1-NormalDist().cdf(z2))\n",
    "print(f'Е Вероятность того, что взрослый имеет рост не выше 150 см или не ниже 190 см:{P: .3f}')"
   ]
  },
  {
   "cell_type": "code",
   "execution_count": 43,
   "metadata": {},
   "outputs": [
    {
     "name": "stdout",
     "output_type": "stream",
     "text": [
      "Ё Вероятность того, что взрослый имеет рост не выше 150 см или не ниже 198 см: 0.003\n"
     ]
    }
   ],
   "source": [
    "z1=z_value(150)\n",
    "z2=z_value(198)\n",
    "P=NormalDist().cdf(z1)+(1-NormalDist().cdf(z2))\n",
    "print(f'Ё Вероятность того, что взрослый имеет рост не выше 150 см или не ниже 198 см:{P: .3f}')"
   ]
  },
  {
   "cell_type": "code",
   "execution_count": 44,
   "metadata": {},
   "outputs": [
    {
     "name": "stdout",
     "output_type": "stream",
     "text": [
      "Ж Вероятность того, что взрослый имеет рост ниже 166 см: 0.159\n"
     ]
    }
   ],
   "source": [
    "z=z_value(166)\n",
    "P=NormalDist().cdf(z)\n",
    "print(f'Ж Вероятность того, что взрослый имеет рост ниже 166 см:{P: .3f}')"
   ]
  },
  {
   "attachments": {},
   "cell_type": "markdown",
   "metadata": {},
   "source": [
    "5. На сколько сигм (средних квадратичных отклонений) отклоняется рост человека, равный 190 см, от математического ожидания роста в популяции, в которой M(X) = 178 см и D(X) = 25 кв.см?\n",
    "(по формуле расчета Z-оценки)"
   ]
  },
  {
   "cell_type": "code",
   "execution_count": 36,
   "metadata": {},
   "outputs": [
    {
     "data": {
      "text/plain": [
       "2.4"
      ]
     },
     "execution_count": 36,
     "metadata": {},
     "output_type": "execute_result"
    }
   ],
   "source": [
    "# M(X)=178см и D(X)=25кв.см \n",
    "Z=(190-178)/25**(1/2)\n",
    "Z"
   ]
  }
 ],
 "metadata": {
  "kernelspec": {
   "display_name": "Python 3",
   "language": "python",
   "name": "python3"
  },
  "language_info": {
   "codemirror_mode": {
    "name": "ipython",
    "version": 3
   },
   "file_extension": ".py",
   "mimetype": "text/x-python",
   "name": "python",
   "nbconvert_exporter": "python",
   "pygments_lexer": "ipython3",
   "version": "3.10.10"
  },
  "orig_nbformat": 4,
  "vscode": {
   "interpreter": {
    "hash": "3321a4ae4fa0f9a6d825ff8faf104d440587b222146f64a5b4a907dcf60b0c1b"
   }
  }
 },
 "nbformat": 4,
 "nbformat_minor": 2
}
