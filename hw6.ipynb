{
 "cells": [
  {
   "attachments": {},
   "cell_type": "markdown",
   "metadata": {},
   "source": []
  },
  {
   "attachments": {},
   "cell_type": "markdown",
   "metadata": {},
   "source": [
    "Известно, что генеральная совокупность распределена нормально со средним квадратическим отклонением, равным 16.\n",
    "Найти доверительный интервал для оценки математического ожидания a с надежностью 0.95,\n",
    "если выборочная средняя M = 80, а объем выборки n = 256."
   ]
  },
  {
   "cell_type": "code",
   "execution_count": 1,
   "metadata": {},
   "outputs": [],
   "source": [
    "import numpy as np\n",
    "from statsmodels.stats.weightstats import _tconfint_generic as t_stat\n",
    "from scipy import stats\n",
    "\n",
    "m = 80\n",
    "b = 16\n",
    "n = 256\n",
    "p = 0.95\n",
    "a = 0.05\n",
    "z = stats.norm.ppf(a/2)"
   ]
  },
  {
   "cell_type": "code",
   "execution_count": 2,
   "metadata": {},
   "outputs": [
    {
     "data": {
      "text/plain": [
       "(81.95996398454005, 78.04003601545995)"
      ]
     },
     "execution_count": 2,
     "metadata": {},
     "output_type": "execute_result"
    }
   ],
   "source": [
    "(m - z * b / np.sqrt(n), m + z * b / np.sqrt(n))"
   ]
  },
  {
   "attachments": {},
   "cell_type": "markdown",
   "metadata": {},
   "source": [
    "2. В результате 10 независимых измерений некоторой величины X, выполненных с одинаковой точностью,\n",
    "получены опытные данные: 6.9, 6.1, 6.2, 6.8, 7.5, 6.3, 6.4, 6.9, 6.7, 6.1\n",
    "\n",
    "Предполагая, что результаты измерений подчинены нормальному закону распределения вероятностей,\n",
    "оценить истинное значение величины X при помощи доверительного интервала,\n",
    "покрывающего это значение с доверительной вероятностью 0,95.2. О случайной непрерывной равномерно распределенной величине B известно, что ее дисперсия равна 0.2. Можно ли найти правую границу величины B и ее среднее значение зная, что левая граница равна 0.5? Если да, найдите ее."
   ]
  },
  {
   "cell_type": "code",
   "execution_count": 3,
   "metadata": {},
   "outputs": [],
   "source": [
    "x = np.array([6.9, 6.1, 6.2, 6.8, 7.5, 6.3, 6.4, 6.9, 6.7, 6.1])\n",
    "x_mean = x.mean()\n",
    "x_std = x.std(ddof = 1)\n",
    "x_mean_std = x_std / (np.sqrt(len(x)))\n",
    "\n",
    "result = t_stat(x_mean, x_mean_std, len(x) - 1, 1 - 0.95, 'two-sided')"
   ]
  },
  {
   "cell_type": "code",
   "execution_count": 4,
   "metadata": {},
   "outputs": [
    {
     "name": "stdout",
     "output_type": "stream",
     "text": [
      "Доверительный интервал: (6.267515851415713, 6.912484148584288)\n"
     ]
    }
   ],
   "source": [
    "print(f\"Доверительный интервал: {result}\")"
   ]
  },
  {
   "attachments": {},
   "cell_type": "markdown",
   "metadata": {},
   "source": [
    "3. Рост дочерей 175, 167, 154, 174, 178, 148, 160, 167, 169, 170\n",
    "Рост матерей 178, 165, 165, 173, 168, 155, 160, 164, 178, 175\n",
    "Используя эти данные построить 95% доверительный интервал для разности среднего роста родителей и детей."
   ]
  },
  {
   "cell_type": "code",
   "execution_count": 5,
   "metadata": {},
   "outputs": [],
   "source": [
    "a = np.array([175, 167, 154, 174, 178, 148, 160, 167, 169, 170])\n",
    "b = np.array([178, 165, 165, 173, 168, 155, 160, 164, 178, 175])"
   ]
  },
  {
   "cell_type": "code",
   "execution_count": 6,
   "metadata": {},
   "outputs": [],
   "source": [
    "x_1 = np.mean(a)\n",
    "x_2 = np.mean(b)\n",
    "delta = x_1 - x_2"
   ]
  },
  {
   "cell_type": "code",
   "execution_count": 7,
   "metadata": {},
   "outputs": [],
   "source": [
    "n = len(a)\n",
    "D1 = np.var(a, ddof = 1)\n",
    "D2 = np.var(b, ddof = 1)\n",
    "\n",
    "D = (D1 + D2) / 2\n",
    "SE = np.sqrt(D/n + D/n)\n",
    "\n",
    "t = stats.t.ppf(0.975, 2 * (n - 1))\n",
    "\n",
    "result = (delta - t*SE, delta + t*SE)"
   ]
  },
  {
   "cell_type": "code",
   "execution_count": 8,
   "metadata": {},
   "outputs": [
    {
     "name": "stdout",
     "output_type": "stream",
     "text": [
      "Доверительный интервал: (-10.068418034506857, 6.268418034506846)\n"
     ]
    }
   ],
   "source": [
    "print(f\"Доверительный интервал: {result}\")"
   ]
  }
 ],
 "metadata": {
  "kernelspec": {
   "display_name": "Python 3",
   "language": "python",
   "name": "python3"
  },
  "language_info": {
   "codemirror_mode": {
    "name": "ipython",
    "version": 3
   },
   "file_extension": ".py",
   "mimetype": "text/x-python",
   "name": "python",
   "nbconvert_exporter": "python",
   "pygments_lexer": "ipython3",
   "version": "3.10.10"
  },
  "orig_nbformat": 4,
  "vscode": {
   "interpreter": {
    "hash": "3321a4ae4fa0f9a6d825ff8faf104d440587b222146f64a5b4a907dcf60b0c1b"
   }
  }
 },
 "nbformat": 4,
 "nbformat_minor": 2
}
