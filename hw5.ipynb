{
 "cells": [
  {
   "attachments": {},
   "cell_type": "markdown",
   "metadata": {},
   "source": []
  },
  {
   "attachments": {},
   "cell_type": "markdown",
   "metadata": {},
   "source": [
    "1. Когда используется критерий Стьюдента, а когда Z –критерий?\n",
    "\n",
    "Если сигма генеральной совокупности известна, то более предпочтителен Z-критерий, в противном случае - критерий Стьюдента t. \n",
    "\n",
    "t -критерий часто применяются для проверки равенства средних значений в двух выборках.\n",
    "Z -критерий обычно применяется при известной дисперсии генеральной совокупности или при оценке выборочного среднего стандартизованных значений.\n",
    "\n"
   ]
  },
  {
   "attachments": {},
   "cell_type": "markdown",
   "metadata": {},
   "source": [
    "2. Утверждается, что шарики для подшипников, изготовленные автоматическим станком, имеют средний диаметр 17 мм. Используя односторонний критерий c a = 0.05 проверить эту гипотезу из n = 100, если в выборке из 100 шариков средний диаметр оказался равным 17.5 мм, а дисперсия известна и равна 4 кв.мм.\n",
    "\n",
    "- H0: M = M0 = 17 \n",
    "- H1: M > M0\n",
    "- Zh = X-M0/(b/n(**1/2))\n",
    "- Х = M = 17,5\n",
    "- std(х) = 4**(1/2) = 2\n",
    "- n = 100"
   ]
  },
  {
   "cell_type": "code",
   "execution_count": 35,
   "metadata": {},
   "outputs": [
    {
     "name": "stdout",
     "output_type": "stream",
     "text": [
      "Наблюдаемое значение z-критерия:  2.5000\n"
     ]
    }
   ],
   "source": [
    "z=(17.5-17)/0.2\n",
    "print(f'Наблюдаемое значение z-критерия: {z: .4f}')"
   ]
  },
  {
   "cell_type": "code",
   "execution_count": 44,
   "metadata": {},
   "outputs": [
    {
     "name": "stdout",
     "output_type": "stream",
     "text": [
      "Табличное значение z-критерия:  1.6449\n"
     ]
    }
   ],
   "source": [
    "import scipy\n",
    "import scipy.stats as stats\n",
    "zt=stats.norm.ppf(0.95)\n",
    "print(f'Табличное значение z-критерия: {zt: .4f}')"
   ]
  },
  {
   "cell_type": "code",
   "execution_count": 38,
   "metadata": {},
   "outputs": [
    {
     "data": {
      "text/plain": [
       "False"
      ]
     },
     "execution_count": 38,
     "metadata": {},
     "output_type": "execute_result"
    }
   ],
   "source": [
    "z<zt"
   ]
  },
  {
   "attachments": {},
   "cell_type": "markdown",
   "metadata": {},
   "source": [
    "Поскольку z > zt , отвергаем нулевую гипотезу при a = 0,05"
   ]
  },
  {
   "attachments": {},
   "cell_type": "markdown",
   "metadata": {},
   "source": [
    "3. Продавец утверждает, что средний вес пачки печенья составляет 200 г. Из партии извлечена выборка из 10 пачек. Вес каждой пачки составляет: 202, 203, 199, 197, 195, 201, 200, 204, 194, 190. Известно, что их веса распределены нормально. Верно ли утверждение продавца, если учитывать, что доверительная вероятность равна 99%?\n",
    "\n",
    "- H0: M = M0 = 200 \n",
    "- H1: M != M0\n",
    "- a=1-0.99=0.01"
   ]
  },
  {
   "cell_type": "code",
   "execution_count": 39,
   "metadata": {},
   "outputs": [],
   "source": [
    "cookies=np.array([202, 203, 199, 197, 195, 201, 200, 204, 194, 190])"
   ]
  },
  {
   "cell_type": "code",
   "execution_count": 40,
   "metadata": {},
   "outputs": [
    {
     "name": "stdout",
     "output_type": "stream",
     "text": [
      "Наблюдаемое значение t-критерия: -1.0651\n"
     ]
    }
   ],
   "source": [
    "tn=(np.mean(cookies)-200)/(np.std(cookies,ddof=1)/len(cookies)**0.5)\n",
    "print(f'Наблюдаемое значение t-критерия: {tn: .4f}')"
   ]
  },
  {
   "cell_type": "code",
   "execution_count": 41,
   "metadata": {},
   "outputs": [
    {
     "name": "stdout",
     "output_type": "stream",
     "text": [
      "Табличное значение t-критерия:  3.2498\n"
     ]
    }
   ],
   "source": [
    "tt=stats.t.ppf(0.995,len(cookies)-1)\n",
    "print(f'Табличное значение t-критерия: {tt: .4f}')"
   ]
  },
  {
   "cell_type": "code",
   "execution_count": 42,
   "metadata": {},
   "outputs": [
    {
     "data": {
      "text/plain": [
       "True"
      ]
     },
     "execution_count": 42,
     "metadata": {},
     "output_type": "execute_result"
    }
   ],
   "source": [
    "np.abs(tn)<tt"
   ]
  },
  {
   "attachments": {},
   "cell_type": "markdown",
   "metadata": {},
   "source": [
    "4. Есть ли статистически значимые различия в росте дочерей?\n",
    "Рост матерей 172, 177, 158, 170, 178,175, 164, 160, 169, 165\n",
    "Рост взрослых дочерей: 173, 175, 162, 174, 175, 168, 155, 170, 160\n",
    "\n",
    "a = 0.05"
   ]
  },
  {
   "cell_type": "code",
   "execution_count": 43,
   "metadata": {},
   "outputs": [
    {
     "data": {
      "text/plain": [
       "TtestResult(statistic=0.559522990335608, pvalue=0.5911212354055175, df=8)"
      ]
     },
     "execution_count": 43,
     "metadata": {},
     "output_type": "execute_result"
    }
   ],
   "source": [
    "x_1 = np.array([172, 177, 158, 170, 178, 175, 164, 160, 169])\n",
    "x_2 = np.array([173, 175, 162, 174, 175, 168, 155, 170, 160])\n",
    "\n",
    "stats.ttest_rel(x_1, x_2)"
   ]
  },
  {
   "attachments": {},
   "cell_type": "markdown",
   "metadata": {},
   "source": [
    "pvalue > a, различия не значительны"
   ]
  }
 ],
 "metadata": {
  "kernelspec": {
   "display_name": "Python 3",
   "language": "python",
   "name": "python3"
  },
  "language_info": {
   "codemirror_mode": {
    "name": "ipython",
    "version": 3
   },
   "file_extension": ".py",
   "mimetype": "text/x-python",
   "name": "python",
   "nbconvert_exporter": "python",
   "pygments_lexer": "ipython3",
   "version": "3.10.10"
  },
  "orig_nbformat": 4,
  "vscode": {
   "interpreter": {
    "hash": "3321a4ae4fa0f9a6d825ff8faf104d440587b222146f64a5b4a907dcf60b0c1b"
   }
  }
 },
 "nbformat": 4,
 "nbformat_minor": 2
}
