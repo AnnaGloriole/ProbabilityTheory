{
 "cells": [
  {
   "attachments": {},
   "cell_type": "markdown",
   "metadata": {},
   "source": []
  },
  {
   "attachments": {},
   "cell_type": "markdown",
   "metadata": {},
   "source": [
    "1. Даны значения зарплат из выборки выпускников: 100, 80, 75, 77, 89, 33, 45, 25, 65, 17, 30, 24, 57, 55, 70, 75, 65, 84, 90, 150. Посчитать (желательно без использования статистических методов наподобие std, var, mean):\n",
    "- а) среднее арифметическое,\n",
    "- б) среднее квадратичное отклонение,\n",
    "- с) смещенную и несмещенную оценки дисперсий для данной выборки."
   ]
  },
  {
   "cell_type": "code",
   "execution_count": 22,
   "metadata": {},
   "outputs": [
    {
     "name": "stdout",
     "output_type": "stream",
     "text": [
      "Среднее арифметическое М(Х) =  65.30\n"
     ]
    }
   ],
   "source": [
    "import numpy as np\n",
    "from math import factorial\n",
    "arr=np.array([100, 80, 75, 77, 89, 33, 45, 25, 65, 17, 30, 24, 57, 55, 70, 75, 65, 84, 90, 150])\n",
    "arr\n",
    "def mean_value(array):\n",
    "    return sum(array)/len(array)\n",
    "print(f'Среднее арифметическое М(Х) = {mean_value(arr): .2f}')"
   ]
  },
  {
   "cell_type": "code",
   "execution_count": 23,
   "metadata": {},
   "outputs": [
    {
     "data": {
      "text/plain": [
       "65.3"
      ]
     },
     "execution_count": 23,
     "metadata": {},
     "output_type": "execute_result"
    }
   ],
   "source": [
    "np.mean(arr)"
   ]
  },
  {
   "cell_type": "code",
   "execution_count": 24,
   "metadata": {},
   "outputs": [
    {
     "name": "stdout",
     "output_type": "stream",
     "text": [
      "Среднее квадратичное отклонение SD =  30.8239\n"
     ]
    }
   ],
   "source": [
    "def mean_square_deviation(array):\n",
    "    square_dev=(array-mean_value(array))**2\n",
    "    return (sum(square_dev)/len(square_dev))**(1/2)\n",
    "print(f'Среднее квадратичное отклонение SD = {mean_square_deviation(arr): .4f}')"
   ]
  },
  {
   "cell_type": "code",
   "execution_count": 25,
   "metadata": {},
   "outputs": [
    {
     "data": {
      "text/plain": [
       "30.823854398825596"
      ]
     },
     "execution_count": 25,
     "metadata": {},
     "output_type": "execute_result"
    }
   ],
   "source": [
    "np.std(arr)"
   ]
  },
  {
   "cell_type": "code",
   "execution_count": 26,
   "metadata": {},
   "outputs": [],
   "source": [
    "def dispers(array, no_off=False):\n",
    "    square_dev=(array-mean_value(array))**2\n",
    "    return sum(square_dev)/(len(square_dev)-1) if no_off else sum(square_dev)/len(square_dev)"
   ]
  },
  {
   "cell_type": "code",
   "execution_count": 27,
   "metadata": {},
   "outputs": [
    {
     "name": "stdout",
     "output_type": "stream",
     "text": [
      "Смещенная оценка дисперсии для данной выборки D =  950.1100\n",
      "Немещенная оценка дисперсии для данной выборки D =  1000.1158\n"
     ]
    }
   ],
   "source": [
    "print(f'Смещенная оценка дисперсии для данной выборки D = {dispers(arr): .4f}\\n'\n",
    "      f'Немещенная оценка дисперсии для данной выборки D = {dispers(arr, True): .4f}')"
   ]
  },
  {
   "cell_type": "code",
   "execution_count": 28,
   "metadata": {},
   "outputs": [
    {
     "data": {
      "text/plain": [
       "950.11"
      ]
     },
     "execution_count": 28,
     "metadata": {},
     "output_type": "execute_result"
    }
   ],
   "source": [
    "np.var(arr)"
   ]
  },
  {
   "cell_type": "code",
   "execution_count": 29,
   "metadata": {},
   "outputs": [
    {
     "data": {
      "text/plain": [
       "1000.1157894736842"
      ]
     },
     "execution_count": 29,
     "metadata": {},
     "output_type": "execute_result"
    }
   ],
   "source": [
    "np.var(arr, ddof=1)"
   ]
  },
  {
   "attachments": {},
   "cell_type": "markdown",
   "metadata": {},
   "source": [
    "2. В первом ящике находится 8 мячей, из которых 5 - белые. Во втором ящике - 12 мячей, из которых 5 белых. Из первого ящика вытаскивают случайным образом два мяча, из второго - 4. Какова вероятность того, что 3 мяча белые?\n",
    "\n",
    "Пусть \n",
    "-искомое событие \"из двух корзин вытащили 3 белых\" мяча. Тогда это событие может произойти следующими способами:\n",
    "- а)  из первой корзины не вытащили ни одного белого мяча, из второй вытащили 3 белых мяча;\n",
    "- б)  из первой корзины вытащили 1 белый мяч, из второй вытащили 2 белых мяча;\n",
    "- в)  из первой корзины вытащили 2 белых мяча, из второй вытащили 1 белый мяч."
   ]
  },
  {
   "cell_type": "code",
   "execution_count": 30,
   "metadata": {},
   "outputs": [],
   "source": [
    "def combinations(n,k):\n",
    "    return factorial(n)/(factorial(k)*factorial(n-k))"
   ]
  },
  {
   "cell_type": "code",
   "execution_count": 31,
   "metadata": {},
   "outputs": [
    {
     "name": "stdout",
     "output_type": "stream",
     "text": [
      "Вероятность события \"из первой корзины не вытащили ни одного белого мяча, из второй вытащили 3 белых мяча\"\n",
      "P(A1) =  0.0152\n"
     ]
    }
   ],
   "source": [
    "P1=(combinations(3,2)/combinations(8,2))*(combinations(5,3)*combinations(7,1)/combinations(12,4))\n",
    "print(f'Вероятность события \"из первой корзины не вытащили ни одного белого мяча'\n",
    "      f', из второй вытащили 3 белых мяча\"\\nP(A1) = {P1: .4f}')"
   ]
  },
  {
   "cell_type": "code",
   "execution_count": 32,
   "metadata": {},
   "outputs": [
    {
     "name": "stdout",
     "output_type": "stream",
     "text": [
      "Вероятность события \"из первой корзины вытащили 1 белый мяч, из второй вытащили 2 белых мяча\"\n",
      "P(A2) =  0.2273\n"
     ]
    }
   ],
   "source": [
    "P2=(combinations(5,1)*combinations(3,1)*combinations(5,2)*combinations(7,2))/(combinations(8,2)*combinations(12,4))\n",
    "print(f'Вероятность события \"из первой корзины вытащили 1 белый мяч'\n",
    "      f', из второй вытащили 2 белых мяча\"\\nP(A2) = {P2: .4f}')"
   ]
  },
  {
   "cell_type": "code",
   "execution_count": 33,
   "metadata": {},
   "outputs": [
    {
     "name": "stdout",
     "output_type": "stream",
     "text": [
      "Вероятность события \"из первой корзины вытащили 2 белых мяча, из второй вытащили 1 белый мяч\"\n",
      "P(A2) =  0.1263\n"
     ]
    }
   ],
   "source": [
    "P3=(combinations(5,2)*combinations(5,1)*combinations(7,3))/(combinations(8,2)*combinations(12,4))\n",
    "print(f'Вероятность события \"из первой корзины вытащили 2 белых мяча'\n",
    "      f', из второй вытащили 1 белый мяч\"\\nP(A2) = {P3: .4f}')"
   ]
  },
  {
   "cell_type": "code",
   "execution_count": 34,
   "metadata": {},
   "outputs": [
    {
     "name": "stdout",
     "output_type": "stream",
     "text": [
      "Вероятность того, что из вытащенных мячей 3 белые Р(А) =  0.3687\n"
     ]
    }
   ],
   "source": [
    "print(f'Вероятность того, что из вытащенных мячей 3 белые Р(А) = { P1+P2+P3: .4f}')"
   ]
  },
  {
   "attachments": {},
   "cell_type": "markdown",
   "metadata": {},
   "source": [
    "Вероятность того, что 3 мяча белые - 36,87%"
   ]
  },
  {
   "attachments": {},
   "cell_type": "markdown",
   "metadata": {},
   "source": [
    "3. На соревновании по биатлону один из трех спортсменов стреляет и попадает в мишень. Вероятность попадания для первого спортсмена равна 0.9, для второго — 0.8, для третьего — 0.6. Найти вероятность того, что выстрел произведен:\n",
    "- a) первым спортсменом;\n",
    "- б) вторым спортсменом;\n",
    "- в) третьим спортсменом."
   ]
  },
  {
   "cell_type": "code",
   "execution_count": 35,
   "metadata": {},
   "outputs": [
    {
     "name": "stdout",
     "output_type": "stream",
     "text": [
      "Полная вероятность наступления события А Р(А) =  0.7667\n"
     ]
    }
   ],
   "source": [
    "PB=1/3\n",
    "PA=PB*0.9+PB*0.8+PB*0.6\n",
    "print(f'Полная вероятность наступления события А Р(А) = {PA: .4f}')"
   ]
  },
  {
   "cell_type": "code",
   "execution_count": 36,
   "metadata": {},
   "outputs": [
    {
     "name": "stdout",
     "output_type": "stream",
     "text": [
      "Вероятность того, что выстрел произвёл первый спортсмен:  39.13 %;\n",
      "Вероятность того, что выстрел произвёл второй спортсмен:  34.78 %;\n",
      "Вероятность того, что выстрел произвёл третий спортсмен:  26.09 %.\n"
     ]
    }
   ],
   "source": [
    "PAB1=PB*0.9/PA*100\n",
    "PAB2=PB*0.8/PA*100\n",
    "PAB3=PB*0.6/PA*100\n",
    "print(f'Вероятность того, что выстрел произвёл первый спортсмен: {PAB1: .2f} %;\\n'\n",
    "      f'Вероятность того, что выстрел произвёл второй спортсмен: {PAB2: .2f} %;\\n'\n",
    "      f'Вероятность того, что выстрел произвёл третий спортсмен: {PAB3: .2f} %.')"
   ]
  },
  {
   "attachments": {},
   "cell_type": "markdown",
   "metadata": {},
   "source": [
    "4. В университет на факультеты A и B поступило равное количество студентов, а на факультет C студентов поступило столько же, сколько на A и B вместе. Вероятность того, что студент факультета A сдаст первую сессию, равна 0.8. Для студента факультета B эта вероятность равна 0.7, а для студента факультета C - 0.9. Студент сдал первую сессию. Какова вероятность, что он учится:\n",
    "- a) на факультете A;\n",
    "- б) на факультете B;\n",
    "- в) на факультете C?"
   ]
  },
  {
   "cell_type": "code",
   "execution_count": 37,
   "metadata": {},
   "outputs": [
    {
     "name": "stdout",
     "output_type": "stream",
     "text": [
      "Полная вероятность наступления события D, P(D) = 0.825.\n"
     ]
    }
   ],
   "source": [
    "PD=0.25*0.8+0.25*0.7+0.5*0.9\n",
    "print(f'Полная вероятность наступления события D, P(D) = {PD}.')"
   ]
  },
  {
   "cell_type": "code",
   "execution_count": 38,
   "metadata": {},
   "outputs": [
    {
     "name": "stdout",
     "output_type": "stream",
     "text": [
      "Вероятность того, что студент учится на факультете А:  24.24; %\n",
      "Вероятность того, что студент учится на факультете B:  21.21; %\n",
      "Вероятность того, что студент учится на факультете C:  54.55 %.\n"
     ]
    }
   ],
   "source": [
    "PDSA=0.25*0.8/PD*100\n",
    "PDSB=0.25*0.7/PD*100\n",
    "PDSC=0.5*0.9/PD*100\n",
    "print(f'Вероятность того, что студент учится на факультете А: {PDSA: .2f}; %\\n'\n",
    "      f'Вероятность того, что студент учится на факультете B: {PDSB: .2f}; %\\n'\n",
    "      f'Вероятность того, что студент учится на факультете C: {PDSC: .2f} %.')"
   ]
  },
  {
   "attachments": {},
   "cell_type": "markdown",
   "metadata": {},
   "source": [
    "5. Устройство состоит из трех деталей. Для первой детали вероятность выйти из строя в первый месяц равна 0.1, для второй - 0.2, для третьей - 0.25. Какова вероятность того, что в первый месяц выйдут из строя:\n",
    "- а) все детали;\n",
    "- б) только две детали;\n",
    "- в) хотя бы одна деталь;\n",
    "- г) от одной до двух деталей?"
   ]
  },
  {
   "cell_type": "code",
   "execution_count": 79,
   "metadata": {},
   "outputs": [
    {
     "name": "stdout",
     "output_type": "stream",
     "text": [
      "A Вероятность того, что из строя выйдут все детали Р(3) =  0.50%\n"
     ]
    }
   ],
   "source": [
    "P3=0.1*0.2*0.25*100\n",
    "print(f'A Вероятность того, что из строя выйдут все детали Р(3) = {P3: .2f}%')"
   ]
  },
  {
   "cell_type": "code",
   "execution_count": 80,
   "metadata": {},
   "outputs": [
    {
     "name": "stdout",
     "output_type": "stream",
     "text": [
      "Б Вероятность того, что из строя выйдут только 2 детали Р(2) =  8.00%\n"
     ]
    }
   ],
   "source": [
    "\n",
    "P2=(0.1*0.2*0.75+0.1*0.25*0.8+0.2*0.25*0.9)*100\n",
    "print(f'Б Вероятность того, что из строя выйдут только 2 детали Р(2) = {P2: .2f}%')"
   ]
  },
  {
   "cell_type": "code",
   "execution_count": 83,
   "metadata": {},
   "outputs": [
    {
     "name": "stdout",
     "output_type": "stream",
     "text": [
      "Вероятность того, что из строя не выйдет ни одной детали Р(0) =  54.00%\n"
     ]
    }
   ],
   "source": [
    "P0=0.9*0.8*0.75*100\n",
    "print(f'Вероятность того, что из строя не выйдет ни одной детали Р(0) = {P0: .2f}%')"
   ]
  },
  {
   "cell_type": "code",
   "execution_count": 82,
   "metadata": {},
   "outputs": [
    {
     "name": "stdout",
     "output_type": "stream",
     "text": [
      "В Вероятность того, что выйдет из строя хотя бы одна деталь Р(>=1) =  46.00%\n"
     ]
    }
   ],
   "source": [
    "P_0=100-P0\n",
    "print(f'В Вероятность того, что выйдет из строя хотя бы одна деталь Р(>=1) = {P_0: .2f}%')"
   ]
  },
  {
   "attachments": {},
   "cell_type": "markdown",
   "metadata": {},
   "source": [
    "P(1,2)=P(1)+P(2), для этотого необхъодимо, чтобы прозошли события A1,A2,A3 и А2,А1,А3 и А3,А1,А2"
   ]
  },
  {
   "cell_type": "code",
   "execution_count": 77,
   "metadata": {},
   "outputs": [
    {
     "name": "stdout",
     "output_type": "stream",
     "text": [
      "Вероятность того, что выйдет из строя одна деталь Р(1) =  37.50%\n"
     ]
    }
   ],
   "source": [
    "P1=(0.1*0.8*0.75+0.2*0.9*0.75+0.25*0.9*0.8)*100\n",
    "print(f'Вероятность того, что выйдет из строя одна деталь Р(1) = {P1: .2f}%')"
   ]
  },
  {
   "cell_type": "code",
   "execution_count": 84,
   "metadata": {},
   "outputs": [
    {
     "name": "stdout",
     "output_type": "stream",
     "text": [
      "Г Вероятность того, что выйдет из строя от одной до 2х деталей Р(1) =  45.50%\n"
     ]
    }
   ],
   "source": [
    "P12 = P1 + P2\n",
    "print(f'Г Вероятность того, что выйдет из строя от одной до 2х деталей Р(1) = {P12: .2f}%')"
   ]
  }
 ],
 "metadata": {
  "kernelspec": {
   "display_name": "Python 3",
   "language": "python",
   "name": "python3"
  },
  "language_info": {
   "codemirror_mode": {
    "name": "ipython",
    "version": 3
   },
   "file_extension": ".py",
   "mimetype": "text/x-python",
   "name": "python",
   "nbconvert_exporter": "python",
   "pygments_lexer": "ipython3",
   "version": "3.10.10"
  },
  "orig_nbformat": 4
 },
 "nbformat": 4,
 "nbformat_minor": 2
}
